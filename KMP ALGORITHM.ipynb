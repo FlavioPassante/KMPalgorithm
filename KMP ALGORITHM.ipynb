{
 "cells": [
  {
   "cell_type": "markdown",
   "metadata": {},
   "source": [
    "# KMP ALGORITHM\n",
    "**Knuth-Morris-Pratt** algorithm searches for occurences of a *word*\n",
    "within a main *text string* using  degenerating property (pattern having same sub-patterns apperaring more than once in a pattern) of the pattern and improves the worst case complexity to **O(n)**, where **n** represents the text size. Without using the KMP algorithm and using a \"naive\" approach, in which the pattern is slided one by one and compared to all text characters at each shift, the performance would be **O(nm)** (m represents the pattern size). The key of this algorithm is to preprocess the pattern, computing a \"*Partial match table*\". This table indicate a \"phase displacement\", i.e the next position in which it can be found a potential occurrence of the pattern. Next step is string matching: when a mismatch is found, the partial match table is considered to continue the research avoiding the reset of the string index. The whole algorithm is based on the longest proper prefix which is also suffix. A proper prefix is one with whole string not allowed. For example, whereas prefixes of \"ABC\" are \" \", \"A\", \"AB\", \"ABC\", proper prefixes are \" \", \"A\" and \"AB\". Proepr suffixes are \" \", \"C\", \"BC\".\n",
    "\n",
    "## Partial Match Table\n",
    "\n",
    "1. KMP algorithm preprocesses the pattern and build and auxilary `PMT[]` of `len(pat)` which is used to skip characters while matching\n",
    "2. Longest proper prefixes which are also suffixes are searched in sub-patterns. \n",
    "3. For each sub-pattern, the PMT table stores length of the maximum matching proper prefix which is also a suffix.\n",
    "\n",
    "## Searching algorithm\n",
    "\n",
    "This step provides several passages: \n",
    "1. The comparison starts considering `pat[patindex]` with `patindex = 0`.\n",
    "2. The algorithm keep comparing `txt[txtindex]` and `pat[patindex]`and  increments *txtindex* and *patindex* when a match is found.\n",
    "3. When a mismatch is found:<br>\n",
    "    3.1. Characters `pat[0...patindex-1]` match with`txt[txtindex-patindex...txtindex-1]`.<br>\n",
    "    3.2 `PMT[patindex-1]` is count of characters of `pat[0...patindex-1]`,both prefixes and suffixes.<br>\n",
    "    3.3 As now,`PMT[patindex-1]` characters don't need to be matched with`txt[txtindex-patindex...txtindex-1]` since these             characters will match anyway.\n"
   ]
  },
  {
   "cell_type": "code",
   "execution_count": 13,
   "metadata": {},
   "outputs": [],
   "source": [
    "def KMP (pat, txt): #pat is the pattern to search in text txt\n",
    "    if pat == txt: \n",
    "        print(\"Same word is too easy to match!\")\n",
    "        exit(-1)\n",
    "    elif not isinstance(pat and txt, str): #Type control test\n",
    "        print(\"Error, non-string input!\")\n",
    "    else: \n",
    "        patsize = len(pat)\n",
    "        txtsize = len(txt)\n",
    "        nP = 0 #Number of occurences \n",
    "        long_pref = [0]*patsize #creating partial match table with the same length of the pattern\n",
    "        patindex = 0\n",
    "        PMT(pat, patsize, long_pref) #preprocessing the pattern \n",
    "        txtindex = 0\n",
    "        ranges = [] #list for matched patterns range.\n",
    "    \n",
    "        while txtindex < txtsize:\n",
    "            if pat[patindex] == txt[txtindex]: #when a match is found, increment both indexes\n",
    "                patindex += 1\n",
    "                txtindex += 1\n",
    "        \n",
    "            if patindex == patsize: #when txtindex reaches the same value of patindex, the whole pattern has been matched. \n",
    "                nP += 1 #at every match found, increment the number of occurencies\n",
    "                ranges.append((f\"{txtindex - patindex}-{txtindex}\")) #adding to the ranges list the indexes\n",
    "                patindex = long_pref[patindex-1] #backtracking in the partial match table in order to continue searching for ather occurrencies in the text\n",
    "\n",
    "            \n",
    "            elif txtindex < txtsize and pat[patindex] != txt[txtindex]: #if a mismatch is found, all the previous characters don't have to be checked again!\n",
    "                if patindex != 0: \n",
    "                    patindex = long_pref[patindex - 1] #backtracking in the patindex to look for the length of the longest prefix which is also a susffix\n",
    "                else:\n",
    "                    txtindex += 1 #moving forward in the string\n",
    "                \n",
    "        print(f\"Pattern matched at indexes: {ranges}\\nNumber of occurencies: {nP}\")\n",
    "\n",
    "\n",
    "    \n",
    "def PMT (pat, patsize, long_pref):\n",
    "    index = 1\n",
    "    long_pref[0] = 0 #the first element in the PMT is 0.\n",
    "    length = 0 #lenght of the previuos longest prefix which is also a suffix\n",
    "    \n",
    "    #the while loop computes long_pref[i] for index = 1 to lenpat-1 \n",
    "    while index < patsize: # patsize (L) is the table size, which is the same of the pattern\n",
    "        if pat[j] == pat[i]: #if the values are the same, the algorithm increment index by one and assign to long_pref[index] the length of the previuos longest prefix + 1 \n",
    "            length += 1 \n",
    "            long_pref[index] = length \n",
    "            index += 1\n",
    "        else: #if the two pattern values are not the same \n",
    "            if length != 0: # and if the length of the previous longest prefix is not 0\n",
    "                length = long_pref[length-1] #the algorithm compute a \"backtracking\", moving back to the longest suffix which is also a prefix.\n",
    "                #index is not incremented\n",
    "            else: #if length = 0 the algorithm can't backtrack \n",
    "                long_pref[index] = 0 \n",
    "                index += 1 #in this case index is incremented"
   ]
  },
  {
   "cell_type": "code",
   "execution_count": 14,
   "metadata": {
    "scrolled": true
   },
   "outputs": [
    {
     "name": "stdout",
     "output_type": "stream",
     "text": [
      "Pattern matched at indexes: ['0-2', '3-5', '5-7', '7-9', '11-13']\n",
      "Number of occurencies: 5\n"
     ]
    }
   ],
   "source": [
    "txt = \"saasasasaassa\"\n",
    "pat = \"sa\"\n",
    "KMP(pat,txt)"
   ]
  }
 ],
 "metadata": {
  "kernelspec": {
   "display_name": "Python 3",
   "language": "python",
   "name": "python3"
  },
  "language_info": {
   "codemirror_mode": {
    "name": "ipython",
    "version": 3
   },
   "file_extension": ".py",
   "mimetype": "text/x-python",
   "name": "python",
   "nbconvert_exporter": "python",
   "pygments_lexer": "ipython3",
   "version": "3.8.3"
  }
 },
 "nbformat": 4,
 "nbformat_minor": 4
}
